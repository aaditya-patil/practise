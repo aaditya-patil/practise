{
  "nbformat": 4,
  "nbformat_minor": 0,
  "metadata": {
    "colab": {
      "provenance": [],
      "collapsed_sections": []
    },
    "kernelspec": {
      "name": "python3",
      "display_name": "Python 3"
    },
    "language_info": {
      "name": "python"
    }
  },
  "cells": [
    {
      "cell_type": "code",
      "execution_count": null,
      "metadata": {
        "id": "U-BiEr9Jy-Mv"
      },
      "outputs": [],
      "source": [
        "\n",
        "\n",
        "\n",
        "# Implementing feedforward neural networks with Keras and TensorFlow\n",
        "# import the necessary packages\n",
        "from sklearn.preprocessing import LabelBinarizer\n",
        "from sklearn.metrics import classification_report\n",
        "from tensorflow.keras.models import Sequential\n",
        "from tensorflow.keras.layers import Dense\n",
        "from tensorflow.keras.optimizers import Adam\n",
        "from tensorflow.keras.datasets import mnist\n",
        "\n",
        "import matplotlib.pyplot as plt\n",
        "import numpy as np\n",
        "\n",
        "\n",
        "# The LabelBinarizer will be used to one-hot encode our integer labels as vector labels. \n",
        "# One-hot encoding transforms categorical labels from a single integer to a vector\n",
        "# The classification_report function will give us a nicely formatted report displaying the total accuracy of our model, \n",
        "# along with a breakdown on the classification accuracy for each digit.\n",
        "# import the necessary packages to create a simple feedforward neural network with Keras. \n",
        "# The Sequential class indicates that our network will be feedforward and layers will be added to the class sequentially, one on top of the other. \n",
        "# The Dense class on Line 5 is the implementation of our fully connected layers. \n",
        "# For our network to actually learn, we need to apply SGD (Line 6) to optimize the parameters of the network. \n",
        "# Finally, to gain access to full MNIST dataset, we need to import the mnist helper function on Line 7"
      ]
    },
    {
      "cell_type": "code",
      "source": [
        "# construct the argument parse and parse the arguments\n",
        "#ap = argparse.ArgumentParser()\n",
        "#ap.add_argument(\"-o\", \"--output\", required=True,\n",
        "\t#help=\"path to the output loss/accuracy plot\")\n",
        "#args = vars(ap.parse_args())\n",
        "\n",
        "# We only need a single switch here, --output, which is the path to where our figure \n",
        "# plotting the loss and accuracy over time will be saved to disk."
      ],
      "metadata": {
        "id": "XCGhZAG0_bUb"
      },
      "execution_count": null,
      "outputs": []
    },
    {
      "cell_type": "code",
      "source": [
        "# grab the MNIST dataset (if this is your first time using this\n",
        "# dataset then the 11MB download may take a minute)\n",
        "\n",
        "print(\"[INFO] accessing MNIST...\")\n",
        "((trainX, trainY), (testX, testY)) = mnist.load_data()\n",
        "\n",
        "# each image in the MNIST dataset is represented as a 28x28x1\n",
        "# image, but in order to apply a standard neural network we must\n",
        "# first \"flatten\" the image to be simple list of 28x28=784 pixels\n",
        "\n",
        "trainX = trainX.reshape((trainX.shape[0], 28 * 28 * 1))\n",
        "testX = testX.reshape((testX.shape[0], 28 * 28 * 1))\n",
        "\n",
        "#perform data normalization on Lines 31 and 32 by scaling the pixel intensities to the range [0, 1].\n",
        "# scale data to the range of [0, 1]\n",
        "\n",
        "trainX = trainX.astype(\"float32\") / 255.0\n",
        "testX = testX.astype(\"float32\") / 255.0"
      ],
      "metadata": {
        "colab": {
          "base_uri": "https://localhost:8080/"
        },
        "id": "xKEidJBo_tiN",
        "outputId": "a8fe99ad-d45a-403b-c0d7-7ff980eb2288"
      },
      "execution_count": null,
      "outputs": [
        {
          "output_type": "stream",
          "name": "stdout",
          "text": [
            "[INFO] accessing MNIST...\n",
            "Downloading data from https://storage.googleapis.com/tensorflow/tf-keras-datasets/mnist.npz\n",
            "11493376/11490434 [==============================] - 0s 0us/step\n",
            "11501568/11490434 [==============================] - 0s 0us/step\n"
          ]
        }
      ]
    },
    {
      "cell_type": "code",
      "source": [
        "# convert the labels from integers to vectors\n",
        "lb = LabelBinarizer()\n",
        "trainY = lb.fit_transform(trainY)\n",
        "testY = lb.transform(testY)\n",
        "\n",
        "# Each data point in the MNIST dataset has an integer label in the range [0, 9], one for each of the possible ten digits in the MNIST dataset.\n",
        "# A label with a value of 0 indicates that the corresponding image contains a zero digit. Similarly, a label with a value of 8 indicates \n",
        "# that the corresponding image contains the number eight."
      ],
      "metadata": {
        "id": "3_p3xZg3ANuG"
      },
      "execution_count": null,
      "outputs": []
    },
    {
      "cell_type": "code",
      "source": [
        "# However, we first need to transform these integer labels into vector labels, \n",
        "#where the index in the vector for label is set to 1 and 0 otherwise (this process is called one-hot encoding)."
      ],
      "metadata": {
        "id": "y9b3mNecAdmx"
      },
      "execution_count": null,
      "outputs": []
    },
    {
      "cell_type": "markdown",
      "source": [
        "one-hot encoding representations for each digit, 0−9, in the listing below:\n",
        "0: [1, 0, 0, 0, 0, 0, 0, 0, 0, 0]\n",
        "1: [0, 1, 0, 0, 0, 0, 0, 0, 0, 0]\n",
        "2: [0, 0, 1, 0, 0, 0, 0, 0, 0, 0]\n",
        "3: [0, 0, 0, 1, 0, 0, 0, 0, 0, 0]\n",
        "4: [0, 0, 0, 0, 1, 0, 0, 0, 0, 0]\n",
        "5: [0, 0, 0, 0, 0, 1, 0, 0, 0, 0]\n",
        "6: [0, 0, 0, 0, 0, 0, 1, 0, 0, 0]\n",
        "7: [0, 0, 0, 0, 0, 0, 0, 1, 0, 0]\n",
        "8: [0, 0, 0, 0, 0, 0, 0, 0, 1, 0]\n",
        "9: [0, 0, 0, 0, 0, 0, 0, 0, 0, 1]"
      ],
      "metadata": {
        "id": "pSCXIJgVG69I"
      }
    },
    {
      "cell_type": "markdown",
      "source": [
        "As you can see, our network is a feedforward architecture, instantiated by the Sequential class on Line 40 — \n",
        "this architecture implies that the layers will be stacked on top of each other with the output of the previous layer feeding into the next.\n",
        "\n",
        "Line 41 defines the first fully connected layer in the network. The input_shape is set to 784, \n",
        "the dimensionality of each MNIST data points. We then learn 256 weights in this layer and apply the sigmoid activation function. \n",
        "The next layer (Line 42) learns 128 weights. Finally, Line 43 applies another fully connected layer, \n",
        "this time only learning 10 weights, corresponding to the ten (0-9) output classes. Instead of a sigmoid activation,\n",
        "we’ll use a softmax activation to obtain normalized class probabilities for each prediction."
      ],
      "metadata": {
        "id": "XMmvu6V-HLdK"
      }
    },
    {
      "cell_type": "code",
      "source": [
        "# define the 784-256-128-10 architecture using Keras\n",
        "model = Sequential()\n",
        "model.add(Dense(256, input_shape=(784,), activation=\"relu\"))\n",
        "model.add(Dense(128, activation=\"relu\"))\n",
        "model.add(Dense(64, activation=\"relu\"))\n",
        "model.add(Dense(10, activation=\"softmax\"))\n",
        "\n",
        "# train the model using Adam\n",
        "print(\"[INFO] training network...\")\n",
        "Adm = Adam(0.01)\n",
        "model.compile(loss=\"categorical_crossentropy\", optimizer=Adm, metrics=[\"accuracy\"])\n",
        "H = model.fit(trainX, trainY, validation_data=(testX, testY), epochs=100, batch_size=128)"
      ],
      "metadata": {
        "colab": {
          "base_uri": "https://localhost:8080/"
        },
        "id": "ByJJesflFobX",
        "outputId": "fd073b0e-6893-47b2-b1ee-d783e5b166ac"
      },
      "execution_count": null,
      "outputs": [
        {
          "output_type": "stream",
          "name": "stdout",
          "text": [
            "[INFO] training network...\n",
            "Epoch 1/100\n",
            "469/469 [==============================] - 4s 8ms/step - loss: 0.2585 - accuracy: 0.9212 - val_loss: 0.1412 - val_accuracy: 0.9577\n",
            "Epoch 2/100\n",
            "469/469 [==============================] - 3s 7ms/step - loss: 0.1306 - accuracy: 0.9624 - val_loss: 0.1209 - val_accuracy: 0.9654\n",
            "Epoch 3/100\n",
            "469/469 [==============================] - 3s 7ms/step - loss: 0.1021 - accuracy: 0.9707 - val_loss: 0.1383 - val_accuracy: 0.9624\n",
            "Epoch 4/100\n",
            "469/469 [==============================] - 4s 9ms/step - loss: 0.0916 - accuracy: 0.9740 - val_loss: 0.1151 - val_accuracy: 0.9706\n",
            "Epoch 5/100\n",
            "469/469 [==============================] - 4s 8ms/step - loss: 0.0858 - accuracy: 0.9747 - val_loss: 0.1184 - val_accuracy: 0.9681\n",
            "Epoch 6/100\n",
            "469/469 [==============================] - 3s 7ms/step - loss: 0.0805 - accuracy: 0.9781 - val_loss: 0.1316 - val_accuracy: 0.9672\n",
            "Epoch 7/100\n",
            "469/469 [==============================] - 3s 7ms/step - loss: 0.0698 - accuracy: 0.9805 - val_loss: 0.1598 - val_accuracy: 0.9657\n",
            "Epoch 8/100\n",
            "469/469 [==============================] - 3s 7ms/step - loss: 0.0747 - accuracy: 0.9805 - val_loss: 0.1359 - val_accuracy: 0.9703\n",
            "Epoch 9/100\n",
            "469/469 [==============================] - 3s 7ms/step - loss: 0.0670 - accuracy: 0.9818 - val_loss: 0.1306 - val_accuracy: 0.9740\n",
            "Epoch 10/100\n",
            "469/469 [==============================] - 3s 7ms/step - loss: 0.0620 - accuracy: 0.9834 - val_loss: 0.1361 - val_accuracy: 0.9711\n",
            "Epoch 11/100\n",
            "469/469 [==============================] - 3s 7ms/step - loss: 0.0625 - accuracy: 0.9834 - val_loss: 0.1227 - val_accuracy: 0.9735\n",
            "Epoch 12/100\n",
            "469/469 [==============================] - 3s 7ms/step - loss: 0.0600 - accuracy: 0.9846 - val_loss: 0.1316 - val_accuracy: 0.9712\n",
            "Epoch 13/100\n",
            "469/469 [==============================] - 3s 7ms/step - loss: 0.0572 - accuracy: 0.9851 - val_loss: 0.1406 - val_accuracy: 0.9707\n",
            "Epoch 14/100\n",
            "469/469 [==============================] - 3s 7ms/step - loss: 0.0506 - accuracy: 0.9864 - val_loss: 0.1293 - val_accuracy: 0.9750\n",
            "Epoch 15/100\n",
            "469/469 [==============================] - 3s 7ms/step - loss: 0.0612 - accuracy: 0.9858 - val_loss: 0.2036 - val_accuracy: 0.9709\n",
            "Epoch 16/100\n",
            "469/469 [==============================] - 3s 7ms/step - loss: 0.0577 - accuracy: 0.9863 - val_loss: 0.1633 - val_accuracy: 0.9758\n",
            "Epoch 17/100\n",
            "469/469 [==============================] - 3s 7ms/step - loss: 0.0473 - accuracy: 0.9886 - val_loss: 0.1710 - val_accuracy: 0.9723\n",
            "Epoch 18/100\n",
            "469/469 [==============================] - 4s 9ms/step - loss: 0.0438 - accuracy: 0.9896 - val_loss: 0.1650 - val_accuracy: 0.9729\n",
            "Epoch 19/100\n",
            "469/469 [==============================] - 3s 7ms/step - loss: 0.0495 - accuracy: 0.9884 - val_loss: 0.1495 - val_accuracy: 0.9757\n",
            "Epoch 20/100\n",
            "469/469 [==============================] - 3s 7ms/step - loss: 0.0401 - accuracy: 0.9902 - val_loss: 0.1791 - val_accuracy: 0.9649\n",
            "Epoch 21/100\n",
            "469/469 [==============================] - 3s 7ms/step - loss: 0.0434 - accuracy: 0.9905 - val_loss: 0.1987 - val_accuracy: 0.9710\n",
            "Epoch 22/100\n",
            "469/469 [==============================] - 3s 7ms/step - loss: 0.0547 - accuracy: 0.9883 - val_loss: 0.1873 - val_accuracy: 0.9688\n",
            "Epoch 23/100\n",
            "469/469 [==============================] - 3s 7ms/step - loss: 0.0476 - accuracy: 0.9896 - val_loss: 0.1603 - val_accuracy: 0.9718\n",
            "Epoch 24/100\n",
            "469/469 [==============================] - 3s 7ms/step - loss: 0.0375 - accuracy: 0.9912 - val_loss: 0.2010 - val_accuracy: 0.9756\n",
            "Epoch 25/100\n",
            "469/469 [==============================] - 3s 7ms/step - loss: 0.0493 - accuracy: 0.9892 - val_loss: 0.1650 - val_accuracy: 0.9775\n",
            "Epoch 26/100\n",
            "469/469 [==============================] - 3s 7ms/step - loss: 0.0356 - accuracy: 0.9921 - val_loss: 0.1962 - val_accuracy: 0.9779\n",
            "Epoch 27/100\n",
            "469/469 [==============================] - 3s 7ms/step - loss: 0.0391 - accuracy: 0.9912 - val_loss: 0.1626 - val_accuracy: 0.9771\n",
            "Epoch 28/100\n",
            "469/469 [==============================] - 3s 7ms/step - loss: 0.0345 - accuracy: 0.9926 - val_loss: 0.2135 - val_accuracy: 0.9762\n",
            "Epoch 29/100\n",
            "469/469 [==============================] - 3s 7ms/step - loss: 0.0410 - accuracy: 0.9912 - val_loss: 0.1643 - val_accuracy: 0.9759\n",
            "Epoch 30/100\n",
            "469/469 [==============================] - 3s 7ms/step - loss: 0.0407 - accuracy: 0.9909 - val_loss: 0.2119 - val_accuracy: 0.9673\n",
            "Epoch 31/100\n",
            "469/469 [==============================] - 3s 7ms/step - loss: 0.0499 - accuracy: 0.9898 - val_loss: 0.2036 - val_accuracy: 0.9759\n",
            "Epoch 32/100\n",
            "469/469 [==============================] - 3s 7ms/step - loss: 0.0374 - accuracy: 0.9922 - val_loss: 0.1814 - val_accuracy: 0.9747\n",
            "Epoch 33/100\n",
            "469/469 [==============================] - 3s 7ms/step - loss: 0.0426 - accuracy: 0.9912 - val_loss: 0.2087 - val_accuracy: 0.9766\n",
            "Epoch 34/100\n",
            "469/469 [==============================] - 3s 7ms/step - loss: 0.0413 - accuracy: 0.9918 - val_loss: 0.2136 - val_accuracy: 0.9782\n",
            "Epoch 35/100\n",
            "469/469 [==============================] - 3s 7ms/step - loss: 0.0321 - accuracy: 0.9930 - val_loss: 0.1721 - val_accuracy: 0.9777\n",
            "Epoch 36/100\n",
            "469/469 [==============================] - 3s 7ms/step - loss: 0.0391 - accuracy: 0.9918 - val_loss: 0.2219 - val_accuracy: 0.9762\n",
            "Epoch 37/100\n",
            "469/469 [==============================] - 3s 7ms/step - loss: 0.0356 - accuracy: 0.9929 - val_loss: 0.2588 - val_accuracy: 0.9755\n",
            "Epoch 38/100\n",
            "469/469 [==============================] - 3s 7ms/step - loss: 0.0502 - accuracy: 0.9909 - val_loss: 0.2934 - val_accuracy: 0.9684\n",
            "Epoch 39/100\n",
            "469/469 [==============================] - 3s 7ms/step - loss: 0.0439 - accuracy: 0.9919 - val_loss: 0.1955 - val_accuracy: 0.9756\n",
            "Epoch 40/100\n",
            "469/469 [==============================] - 3s 7ms/step - loss: 0.0319 - accuracy: 0.9937 - val_loss: 0.2076 - val_accuracy: 0.9769\n",
            "Epoch 41/100\n",
            "469/469 [==============================] - 3s 7ms/step - loss: 0.0274 - accuracy: 0.9945 - val_loss: 0.2393 - val_accuracy: 0.9765\n",
            "Epoch 42/100\n",
            "469/469 [==============================] - 3s 7ms/step - loss: 0.0310 - accuracy: 0.9933 - val_loss: 0.2169 - val_accuracy: 0.9762\n",
            "Epoch 43/100\n",
            "469/469 [==============================] - 3s 7ms/step - loss: 0.0294 - accuracy: 0.9936 - val_loss: 0.3118 - val_accuracy: 0.9757\n",
            "Epoch 44/100\n",
            "469/469 [==============================] - 3s 7ms/step - loss: 0.0297 - accuracy: 0.9939 - val_loss: 0.2542 - val_accuracy: 0.9746\n",
            "Epoch 45/100\n",
            "469/469 [==============================] - 3s 7ms/step - loss: 0.0457 - accuracy: 0.9917 - val_loss: 0.3098 - val_accuracy: 0.9700\n",
            "Epoch 46/100\n",
            "469/469 [==============================] - 3s 7ms/step - loss: 0.0488 - accuracy: 0.9901 - val_loss: 0.2977 - val_accuracy: 0.9740\n",
            "Epoch 47/100\n",
            "469/469 [==============================] - 3s 7ms/step - loss: 0.0332 - accuracy: 0.9944 - val_loss: 0.2543 - val_accuracy: 0.9757\n",
            "Epoch 48/100\n",
            "469/469 [==============================] - 3s 7ms/step - loss: 0.0333 - accuracy: 0.9942 - val_loss: 0.2487 - val_accuracy: 0.9779\n",
            "Epoch 49/100\n",
            "469/469 [==============================] - 4s 9ms/step - loss: 0.0397 - accuracy: 0.9932 - val_loss: 0.2452 - val_accuracy: 0.9742\n",
            "Epoch 50/100\n",
            "469/469 [==============================] - 3s 7ms/step - loss: 0.0349 - accuracy: 0.9925 - val_loss: 0.2008 - val_accuracy: 0.9778\n",
            "Epoch 51/100\n",
            "469/469 [==============================] - 4s 9ms/step - loss: 0.0215 - accuracy: 0.9953 - val_loss: 0.3074 - val_accuracy: 0.9780\n",
            "Epoch 52/100\n",
            "469/469 [==============================] - 4s 8ms/step - loss: 0.0359 - accuracy: 0.9936 - val_loss: 0.3138 - val_accuracy: 0.9740\n",
            "Epoch 53/100\n",
            "469/469 [==============================] - 3s 7ms/step - loss: 0.0523 - accuracy: 0.9912 - val_loss: 0.3094 - val_accuracy: 0.9759\n",
            "Epoch 54/100\n",
            "469/469 [==============================] - 3s 7ms/step - loss: 0.0365 - accuracy: 0.9931 - val_loss: 0.2169 - val_accuracy: 0.9777\n",
            "Epoch 55/100\n",
            "469/469 [==============================] - 3s 7ms/step - loss: 0.0226 - accuracy: 0.9952 - val_loss: 0.2713 - val_accuracy: 0.9749\n",
            "Epoch 56/100\n",
            "469/469 [==============================] - 3s 7ms/step - loss: 0.0304 - accuracy: 0.9940 - val_loss: 0.2721 - val_accuracy: 0.9749\n",
            "Epoch 57/100\n",
            "469/469 [==============================] - 3s 7ms/step - loss: 0.0316 - accuracy: 0.9938 - val_loss: 0.2252 - val_accuracy: 0.9762\n",
            "Epoch 58/100\n",
            "469/469 [==============================] - 3s 7ms/step - loss: 0.0350 - accuracy: 0.9938 - val_loss: 0.2796 - val_accuracy: 0.9758\n",
            "Epoch 59/100\n",
            "469/469 [==============================] - 4s 8ms/step - loss: 0.0265 - accuracy: 0.9949 - val_loss: 0.2709 - val_accuracy: 0.9745\n",
            "Epoch 60/100\n",
            "469/469 [==============================] - 3s 7ms/step - loss: 0.0277 - accuracy: 0.9946 - val_loss: 0.2872 - val_accuracy: 0.9737\n",
            "Epoch 61/100\n",
            "469/469 [==============================] - 3s 7ms/step - loss: 0.0295 - accuracy: 0.9946 - val_loss: 0.3305 - val_accuracy: 0.9749\n",
            "Epoch 62/100\n",
            "469/469 [==============================] - 3s 7ms/step - loss: 0.0202 - accuracy: 0.9960 - val_loss: 0.3417 - val_accuracy: 0.9778\n",
            "Epoch 63/100\n",
            "469/469 [==============================] - 4s 8ms/step - loss: 0.0259 - accuracy: 0.9950 - val_loss: 0.3144 - val_accuracy: 0.9723\n",
            "Epoch 64/100\n",
            "469/469 [==============================] - 3s 7ms/step - loss: 0.0324 - accuracy: 0.9945 - val_loss: 0.3273 - val_accuracy: 0.9733\n",
            "Epoch 65/100\n",
            "469/469 [==============================] - 3s 7ms/step - loss: 0.0330 - accuracy: 0.9937 - val_loss: 0.2341 - val_accuracy: 0.9783\n",
            "Epoch 66/100\n",
            "469/469 [==============================] - 3s 7ms/step - loss: 0.0275 - accuracy: 0.9952 - val_loss: 0.3036 - val_accuracy: 0.9760\n",
            "Epoch 67/100\n",
            "469/469 [==============================] - 3s 7ms/step - loss: 0.0233 - accuracy: 0.9957 - val_loss: 0.3160 - val_accuracy: 0.9763\n",
            "Epoch 68/100\n",
            "469/469 [==============================] - 3s 7ms/step - loss: 0.0332 - accuracy: 0.9940 - val_loss: 0.2853 - val_accuracy: 0.9742\n",
            "Epoch 69/100\n",
            "469/469 [==============================] - 3s 7ms/step - loss: 0.0301 - accuracy: 0.9947 - val_loss: 0.3335 - val_accuracy: 0.9741\n",
            "Epoch 70/100\n",
            "469/469 [==============================] - 3s 7ms/step - loss: 0.0334 - accuracy: 0.9947 - val_loss: 0.3458 - val_accuracy: 0.9737\n",
            "Epoch 71/100\n",
            "469/469 [==============================] - 3s 7ms/step - loss: 0.0319 - accuracy: 0.9944 - val_loss: 0.2874 - val_accuracy: 0.9739\n",
            "Epoch 72/100\n",
            "469/469 [==============================] - 4s 8ms/step - loss: 0.0253 - accuracy: 0.9957 - val_loss: 0.2337 - val_accuracy: 0.9775\n",
            "Epoch 73/100\n",
            "469/469 [==============================] - 3s 7ms/step - loss: 0.0187 - accuracy: 0.9964 - val_loss: 0.3008 - val_accuracy: 0.9751\n",
            "Epoch 74/100\n",
            "469/469 [==============================] - 3s 7ms/step - loss: 0.0331 - accuracy: 0.9939 - val_loss: 0.3046 - val_accuracy: 0.9746\n",
            "Epoch 75/100\n",
            "469/469 [==============================] - 3s 7ms/step - loss: 0.0185 - accuracy: 0.9964 - val_loss: 0.3497 - val_accuracy: 0.9739\n",
            "Epoch 76/100\n",
            "469/469 [==============================] - 3s 7ms/step - loss: 0.0416 - accuracy: 0.9934 - val_loss: 0.2883 - val_accuracy: 0.9760\n",
            "Epoch 77/100\n",
            "469/469 [==============================] - 3s 7ms/step - loss: 0.0432 - accuracy: 0.9937 - val_loss: 0.3549 - val_accuracy: 0.9716\n",
            "Epoch 78/100\n",
            "469/469 [==============================] - 3s 7ms/step - loss: 0.0393 - accuracy: 0.9927 - val_loss: 0.3168 - val_accuracy: 0.9745\n",
            "Epoch 79/100\n",
            "469/469 [==============================] - 5s 10ms/step - loss: 0.0293 - accuracy: 0.9952 - val_loss: 0.3561 - val_accuracy: 0.9770\n",
            "Epoch 80/100\n",
            "469/469 [==============================] - 3s 7ms/step - loss: 0.0185 - accuracy: 0.9966 - val_loss: 0.3118 - val_accuracy: 0.9741\n",
            "Epoch 81/100\n",
            "469/469 [==============================] - 3s 7ms/step - loss: 0.0184 - accuracy: 0.9963 - val_loss: 0.2818 - val_accuracy: 0.9761\n",
            "Epoch 82/100\n",
            "469/469 [==============================] - 3s 7ms/step - loss: 0.0187 - accuracy: 0.9962 - val_loss: 0.4430 - val_accuracy: 0.9737\n",
            "Epoch 83/100\n",
            "469/469 [==============================] - 3s 7ms/step - loss: 0.0257 - accuracy: 0.9956 - val_loss: 0.3923 - val_accuracy: 0.9733\n",
            "Epoch 84/100\n",
            "469/469 [==============================] - 3s 7ms/step - loss: 0.0184 - accuracy: 0.9963 - val_loss: 0.3610 - val_accuracy: 0.9769\n",
            "Epoch 85/100\n",
            "469/469 [==============================] - 3s 7ms/step - loss: 0.0206 - accuracy: 0.9959 - val_loss: 0.3460 - val_accuracy: 0.9725\n",
            "Epoch 86/100\n",
            "469/469 [==============================] - 5s 12ms/step - loss: 0.0241 - accuracy: 0.9956 - val_loss: 0.4776 - val_accuracy: 0.9744\n",
            "Epoch 87/100\n",
            "469/469 [==============================] - 6s 13ms/step - loss: 0.0313 - accuracy: 0.9943 - val_loss: 0.4315 - val_accuracy: 0.9761\n",
            "Epoch 88/100\n",
            "469/469 [==============================] - 5s 11ms/step - loss: 0.0357 - accuracy: 0.9946 - val_loss: 0.3175 - val_accuracy: 0.9736\n",
            "Epoch 89/100\n",
            "469/469 [==============================] - 6s 12ms/step - loss: 0.0281 - accuracy: 0.9956 - val_loss: 0.3012 - val_accuracy: 0.9755\n",
            "Epoch 90/100\n",
            "469/469 [==============================] - 4s 9ms/step - loss: 0.0315 - accuracy: 0.9954 - val_loss: 0.4287 - val_accuracy: 0.9767\n",
            "Epoch 91/100\n",
            "469/469 [==============================] - 3s 7ms/step - loss: 0.0219 - accuracy: 0.9960 - val_loss: 0.3829 - val_accuracy: 0.9774\n",
            "Epoch 92/100\n",
            "469/469 [==============================] - 3s 7ms/step - loss: 0.0293 - accuracy: 0.9952 - val_loss: 0.3667 - val_accuracy: 0.9759\n",
            "Epoch 93/100\n",
            "469/469 [==============================] - 3s 7ms/step - loss: 0.0183 - accuracy: 0.9961 - val_loss: 0.4318 - val_accuracy: 0.9770\n",
            "Epoch 94/100\n",
            "469/469 [==============================] - 4s 8ms/step - loss: 0.0410 - accuracy: 0.9938 - val_loss: 0.3636 - val_accuracy: 0.9761\n",
            "Epoch 95/100\n",
            "469/469 [==============================] - 3s 7ms/step - loss: 0.0242 - accuracy: 0.9955 - val_loss: 0.4163 - val_accuracy: 0.9760\n",
            "Epoch 96/100\n",
            "469/469 [==============================] - 3s 7ms/step - loss: 0.0267 - accuracy: 0.9952 - val_loss: 0.6017 - val_accuracy: 0.9763\n",
            "Epoch 97/100\n",
            "469/469 [==============================] - 4s 8ms/step - loss: 0.0302 - accuracy: 0.9948 - val_loss: 0.3433 - val_accuracy: 0.9768\n",
            "Epoch 98/100\n",
            "469/469 [==============================] - 3s 7ms/step - loss: 0.0188 - accuracy: 0.9963 - val_loss: 0.4586 - val_accuracy: 0.9756\n",
            "Epoch 99/100\n",
            "469/469 [==============================] - 3s 7ms/step - loss: 0.0179 - accuracy: 0.9966 - val_loss: 0.4191 - val_accuracy: 0.9746\n",
            "Epoch 100/100\n",
            "469/469 [==============================] - 3s 7ms/step - loss: 0.0198 - accuracy: 0.9962 - val_loss: 0.4091 - val_accuracy: 0.9770\n"
          ]
        }
      ]
    },
    {
      "cell_type": "markdown",
      "source": [
        "In Line 47, we initialize the SGD optimizer with a learning rate of 0.01 (which we may commonly write as 1e-2). \n",
        "We’ll use the category cross-entropy loss function as our loss metric (Lines 48 and 49). Using the cross-entropy\n",
        " loss function is also why we had to convert our integer labels to vector labels.\n",
        "\n",
        "A call to .fit of the model on Lines 50 and 51 kicks off the training of our neural network. \n",
        "We’ll supply the training data and training labels as the first two arguments to the method.*italicized text*"
      ],
      "metadata": {
        "id": "QWIYpr2EHNtn"
      }
    },
    {
      "cell_type": "code",
      "source": [
        "# evaluate the network\n",
        "print(\"[INFO] evaluating network...\")\n",
        "predictions = model.predict(testX, batch_size=128)\n",
        "print(classification_report(testY.argmax(axis=1),\n",
        "\tpredictions.argmax(axis=1),\n",
        "\ttarget_names=[str(x) for x in lb.classes_]))"
      ],
      "metadata": {
        "colab": {
          "base_uri": "https://localhost:8080/"
        },
        "id": "_2rhtL4KGAB4",
        "outputId": "5664688c-90ba-45cc-feaf-61ebd469a645"
      },
      "execution_count": null,
      "outputs": [
        {
          "output_type": "stream",
          "name": "stdout",
          "text": [
            "[INFO] evaluating network...\n",
            "              precision    recall  f1-score   support\n",
            "\n",
            "           0       0.94      0.98      0.96       980\n",
            "           1       0.97      0.98      0.97      1135\n",
            "           2       0.93      0.90      0.92      1032\n",
            "           3       0.91      0.91      0.91      1010\n",
            "           4       0.92      0.93      0.93       982\n",
            "           5       0.89      0.88      0.88       892\n",
            "           6       0.94      0.94      0.94       958\n",
            "           7       0.93      0.93      0.93      1028\n",
            "           8       0.90      0.89      0.89       974\n",
            "           9       0.92      0.90      0.91      1009\n",
            "\n",
            "    accuracy                           0.92     10000\n",
            "   macro avg       0.92      0.92      0.92     10000\n",
            "weighted avg       0.92      0.92      0.92     10000\n",
            "\n"
          ]
        }
      ]
    },
    {
      "cell_type": "code",
      "source": [
        "# plot the training loss and accuracy\n",
        "plt.style.use(\"ggplot\")\n",
        "plt.figure()\n",
        "plt.plot(np.arange(0, 100), H.history[\"loss\"], label=\"train_loss\")\n",
        "plt.plot(np.arange(0, 100), H.history[\"val_loss\"], label=\"val_loss\")\n",
        "plt.plot(np.arange(0, 100), H.history[\"accuracy\"], label=\"train_acc\")\n",
        "plt.plot(np.arange(0, 100), H.history[\"val_accuracy\"], label=\"val_acc\")\n",
        "plt.title(\"Training Loss and Accuracy\")\n",
        "plt.xlabel(\"Epoch #\")\n",
        "plt.ylabel(\"Loss/Accuracy\")\n",
        "plt.legend()\n"
      ],
      "metadata": {
        "colab": {
          "base_uri": "https://localhost:8080/",
          "height": 482
        },
        "id": "Ku2GamqqGIns",
        "outputId": "ba49d484-dddb-45ea-cdbf-d4081e53299f"
      },
      "execution_count": null,
      "outputs": [
        {
          "output_type": "error",
          "ename": "NameError",
          "evalue": "ignored",
          "traceback": [
            "\u001b[0;31m---------------------------------------------------------------------------\u001b[0m",
            "\u001b[0;31mNameError\u001b[0m                                 Traceback (most recent call last)",
            "\u001b[0;32m<ipython-input-8-f19faa8d29d1>\u001b[0m in \u001b[0;36m<module>\u001b[0;34m()\u001b[0m\n\u001b[1;32m     10\u001b[0m \u001b[0mplt\u001b[0m\u001b[0;34m.\u001b[0m\u001b[0mylabel\u001b[0m\u001b[0;34m(\u001b[0m\u001b[0;34m\"Loss/Accuracy\"\u001b[0m\u001b[0;34m)\u001b[0m\u001b[0;34m\u001b[0m\u001b[0;34m\u001b[0m\u001b[0m\n\u001b[1;32m     11\u001b[0m \u001b[0mplt\u001b[0m\u001b[0;34m.\u001b[0m\u001b[0mlegend\u001b[0m\u001b[0;34m(\u001b[0m\u001b[0;34m)\u001b[0m\u001b[0;34m\u001b[0m\u001b[0;34m\u001b[0m\u001b[0m\n\u001b[0;32m---> 12\u001b[0;31m \u001b[0mplt\u001b[0m\u001b[0;34m.\u001b[0m\u001b[0msavefig\u001b[0m\u001b[0;34m(\u001b[0m\u001b[0margs\u001b[0m\u001b[0;34m[\u001b[0m\u001b[0;34m\"output\"\u001b[0m\u001b[0;34m]\u001b[0m\u001b[0;34m)\u001b[0m\u001b[0;34m\u001b[0m\u001b[0;34m\u001b[0m\u001b[0m\n\u001b[0m",
            "\u001b[0;31mNameError\u001b[0m: name 'args' is not defined"
          ]
        },
        {
          "output_type": "display_data",
          "data": {
            "text/plain": [
              "<Figure size 432x288 with 1 Axes>"
            ],
            "image/png": "[encoded data removed]"
          },
          "metadata": {}
        }
      ]
    },
    {
      "cell_type": "code",
      "source": [
        "# To train our network of fully connected layers on MNIST, just execute the following command:\n",
        "\n",
        "$ python keras_mnist.py --output output/keras_mnist.png"
      ],
      "metadata": {
        "colab": {
          "base_uri": "https://localhost:8080/",
          "height": 130
        },
        "id": "PRcZEP6ZGQ5z",
        "outputId": "fbc2b643-fc90-47f4-96a8-6b29da62146d"
      },
      "execution_count": null,
      "outputs": [
        {
          "output_type": "error",
          "ename": "SyntaxError",
          "evalue": "ignored",
          "traceback": [
            "\u001b[0;36m  File \u001b[0;32m\"<ipython-input-9-6af70ffafde5>\"\u001b[0;36m, line \u001b[0;32m3\u001b[0m\n\u001b[0;31m    $ python keras_mnist.py --output output/keras_mnist.png\u001b[0m\n\u001b[0m    ^\u001b[0m\n\u001b[0;31mSyntaxError\u001b[0m\u001b[0;31m:\u001b[0m invalid syntax\n"
          ]
        }
      ]
    }
  ]
}